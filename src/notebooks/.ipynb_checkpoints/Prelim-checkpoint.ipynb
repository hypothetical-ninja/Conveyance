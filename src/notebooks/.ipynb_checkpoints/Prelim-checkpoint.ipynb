{
 "cells": [
  {
   "cell_type": "code",
   "execution_count": 1,
   "id": "a31c9a37",
   "metadata": {},
   "outputs": [],
   "source": [
    "import pandas as pd\n",
    "import numpy as np\n",
    "import os\n",
    "import re\n",
    "import json\n",
    "import matplotlib.pyplot as plt\n",
    "data_path = '../../raw_data/ltnn.json'"
   ]
  },
  {
   "cell_type": "code",
   "execution_count": 2,
   "id": "55259318",
   "metadata": {},
   "outputs": [],
   "source": [
    "def read_raw_file(path):\n",
    "    if path.endswith('.json'):\n",
    "        with open(path, 'r') as f:\n",
    "            raw_json = json.load(f)\n",
    "    else:\n",
    "        raw_json = None\n",
    "    return raw_json\n",
    "\n",
    "\n",
    "def convert_to_dataframe(json_file):\n",
    "    dfs_list = []\n",
    "    for colname in json_file.keys():\n",
    "        sub_dictionary = json_file[colname]\n",
    "        subdf = pd.DataFrame.from_dict(sub_dictionary, orient='index', columns=[colname])\n",
    "        dfs_list.append(subdf)\n",
    "    df = pd.concat(dfs_list, axis=1).reset_index(level=0)\n",
    "\n",
    "    return df\n",
    "\n",
    "json_file = read_raw_file(data_path)\n",
    "df = convert_to_dataframe(json_file)"
   ]
  },
  {
   "cell_type": "code",
   "execution_count": 3,
   "id": "25474836",
   "metadata": {},
   "outputs": [],
   "source": [
    "df.to_csv('../../raw_data/deliveries.csv', index = False)"
   ]
  },
  {
   "cell_type": "code",
   "execution_count": 39,
   "id": "477f413a",
   "metadata": {},
   "outputs": [
    {
     "data": {
      "text/plain": [
       "<AxesSubplot:>"
      ]
     },
     "execution_count": 39,
     "metadata": {},
     "output_type": "execute_result"
    },
    {
     "data": {
      "image/png": "[encoded data removed]",
      "text/plain": [
       "<Figure size 432x288 with 1 Axes>"
      ]
     },
     "metadata": {
      "needs_background": "light"
     },
     "output_type": "display_data"
    }
   ],
   "source": [
    "df['logistics_dropoff_distance'].hist()"
   ]
  },
  {
   "cell_type": "code",
   "execution_count": 43,
   "id": "9b7b2628",
   "metadata": {},
   "outputs": [
    {
     "name": "stdout",
     "output_type": "stream",
     "text": [
      "15328253.689635966\n"
     ]
    }
   ],
   "source": [
    "print(np.max(df['logistics_dropoff_distance']))"
   ]
  },
  {
   "cell_type": "code",
   "execution_count": 63,
   "id": "78fc5a94",
   "metadata": {},
   "outputs": [
    {
     "name": "stdout",
     "output_type": "stream",
     "text": [
      "17430\n"
     ]
    }
   ],
   "source": [
    "outliers = df[df['logistics_dropoff_distance'] > 1000]\n",
    "print(len(outliers))\n",
    "\n"
   ]
  },
  {
   "cell_type": "code",
   "execution_count": 59,
   "id": "4f3cbe17",
   "metadata": {},
   "outputs": [
    {
     "data": {
      "text/html": [
       "<div>\n",
       "<style scoped>\n",
       "    .dataframe tbody tr th:only-of-type {\n",
       "        vertical-align: middle;\n",
       "    }\n",
       "\n",
       "    .dataframe tbody tr th {\n",
       "        vertical-align: top;\n",
       "    }\n",
       "\n",
       "    .dataframe thead th {\n",
       "        text-align: right;\n",
       "    }\n",
       "</style>\n",
       "<table border=\"1\" class=\"dataframe\">\n",
       "  <thead>\n",
       "    <tr style=\"text-align: right;\">\n",
       "      <th></th>\n",
       "      <th>index</th>\n",
       "      <th>order_id</th>\n",
       "      <th>order_value</th>\n",
       "      <th>order_items_count</th>\n",
       "      <th>customer_id</th>\n",
       "      <th>created_timestamp_local</th>\n",
       "      <th>has_instruction</th>\n",
       "      <th>logistics_dropoff_distance</th>\n",
       "      <th>delivery_postal_code</th>\n",
       "      <th>delivery_geohash_precision8</th>\n",
       "      <th>has_phone_number</th>\n",
       "      <th>has_call_instruction</th>\n",
       "      <th>has_leave_instruction</th>\n",
       "      <th>has_lift_instruction</th>\n",
       "      <th>has_lobby_instruction</th>\n",
       "      <th>has_gate_instruction</th>\n",
       "      <th>has_knock_instruction</th>\n",
       "      <th>has_bell_instruction</th>\n",
       "    </tr>\n",
       "  </thead>\n",
       "  <tbody>\n",
       "    <tr>\n",
       "      <th>287</th>\n",
       "      <td>912</td>\n",
       "      <td>x8yk-4mc4</td>\n",
       "      <td>51.30</td>\n",
       "      <td>13</td>\n",
       "      <td>v0wyl5iy</td>\n",
       "      <td>2021-03-29T18:32:22</td>\n",
       "      <td>True</td>\n",
       "      <td>1079.814529</td>\n",
       "      <td></td>\n",
       "      <td>w23b4u50</td>\n",
       "      <td>False</td>\n",
       "      <td>False</td>\n",
       "      <td>False</td>\n",
       "      <td>False</td>\n",
       "      <td>False</td>\n",
       "      <td>False</td>\n",
       "      <td>False</td>\n",
       "      <td>False</td>\n",
       "    </tr>\n",
       "    <tr>\n",
       "      <th>303</th>\n",
       "      <td>928</td>\n",
       "      <td>y9zp-4bul</td>\n",
       "      <td>50.18</td>\n",
       "      <td>17</td>\n",
       "      <td>b6vhz4io</td>\n",
       "      <td>2021-03-12T17:04:07</td>\n",
       "      <td>True</td>\n",
       "      <td>3691.656296</td>\n",
       "      <td>118659</td>\n",
       "      <td>w21z3db2</td>\n",
       "      <td>False</td>\n",
       "      <td>False</td>\n",
       "      <td>False</td>\n",
       "      <td>False</td>\n",
       "      <td>False</td>\n",
       "      <td>False</td>\n",
       "      <td>False</td>\n",
       "      <td>False</td>\n",
       "    </tr>\n",
       "    <tr>\n",
       "      <th>402</th>\n",
       "      <td>1030</td>\n",
       "      <td>y2xz-24n6</td>\n",
       "      <td>43.60</td>\n",
       "      <td>12</td>\n",
       "      <td>sgwjamul</td>\n",
       "      <td>2021-03-26T00:42:42</td>\n",
       "      <td>True</td>\n",
       "      <td>2481.142318</td>\n",
       "      <td>189768</td>\n",
       "      <td>w21z779v</td>\n",
       "      <td>False</td>\n",
       "      <td>False</td>\n",
       "      <td>False</td>\n",
       "      <td>False</td>\n",
       "      <td>False</td>\n",
       "      <td>False</td>\n",
       "      <td>False</td>\n",
       "      <td>False</td>\n",
       "    </tr>\n",
       "    <tr>\n",
       "      <th>601</th>\n",
       "      <td>1233</td>\n",
       "      <td>x1lt-gb1o</td>\n",
       "      <td>48.45</td>\n",
       "      <td>16</td>\n",
       "      <td>r4cem3tl</td>\n",
       "      <td>2021-03-16T17:04:29</td>\n",
       "      <td>True</td>\n",
       "      <td>1938.254350</td>\n",
       "      <td>312131</td>\n",
       "      <td>w21zdgxv</td>\n",
       "      <td>False</td>\n",
       "      <td>False</td>\n",
       "      <td>True</td>\n",
       "      <td>False</td>\n",
       "      <td>False</td>\n",
       "      <td>False</td>\n",
       "      <td>False</td>\n",
       "      <td>False</td>\n",
       "    </tr>\n",
       "    <tr>\n",
       "      <th>797</th>\n",
       "      <td>1432</td>\n",
       "      <td>x6qu-07hc</td>\n",
       "      <td>22.10</td>\n",
       "      <td>13</td>\n",
       "      <td>sgf6dmoi</td>\n",
       "      <td>2021-03-24T21:33:00</td>\n",
       "      <td>False</td>\n",
       "      <td>3735.968406</td>\n",
       "      <td></td>\n",
       "      <td>w21z8wpc</td>\n",
       "      <td>False</td>\n",
       "      <td>False</td>\n",
       "      <td>False</td>\n",
       "      <td>False</td>\n",
       "      <td>False</td>\n",
       "      <td>False</td>\n",
       "      <td>False</td>\n",
       "      <td>False</td>\n",
       "    </tr>\n",
       "  </tbody>\n",
       "</table>\n",
       "</div>"
      ],
      "text/plain": [
       "    index   order_id  order_value  order_items_count customer_id  \\\n",
       "287   912  x8yk-4mc4        51.30                 13    v0wyl5iy   \n",
       "303   928  y9zp-4bul        50.18                 17    b6vhz4io   \n",
       "402  1030  y2xz-24n6        43.60                 12    sgwjamul   \n",
       "601  1233  x1lt-gb1o        48.45                 16    r4cem3tl   \n",
       "797  1432  x6qu-07hc        22.10                 13    sgf6dmoi   \n",
       "\n",
       "    created_timestamp_local  has_instruction  logistics_dropoff_distance  \\\n",
       "287     2021-03-29T18:32:22             True                 1079.814529   \n",
       "303     2021-03-12T17:04:07             True                 3691.656296   \n",
       "402     2021-03-26T00:42:42             True                 2481.142318   \n",
       "601     2021-03-16T17:04:29             True                 1938.254350   \n",
       "797     2021-03-24T21:33:00            False                 3735.968406   \n",
       "\n",
       "    delivery_postal_code delivery_geohash_precision8  has_phone_number  \\\n",
       "287                                         w23b4u50             False   \n",
       "303               118659                    w21z3db2             False   \n",
       "402               189768                    w21z779v             False   \n",
       "601               312131                    w21zdgxv             False   \n",
       "797                                         w21z8wpc             False   \n",
       "\n",
       "     has_call_instruction  has_leave_instruction  has_lift_instruction  \\\n",
       "287                 False                  False                 False   \n",
       "303                 False                  False                 False   \n",
       "402                 False                  False                 False   \n",
       "601                 False                   True                 False   \n",
       "797                 False                  False                 False   \n",
       "\n",
       "     has_lobby_instruction  has_gate_instruction  has_knock_instruction  \\\n",
       "287                  False                 False                  False   \n",
       "303                  False                 False                  False   \n",
       "402                  False                 False                  False   \n",
       "601                  False                 False                  False   \n",
       "797                  False                 False                  False   \n",
       "\n",
       "     has_bell_instruction  \n",
       "287                 False  \n",
       "303                 False  \n",
       "402                 False  \n",
       "601                 False  \n",
       "797                 False  "
      ]
     },
     "execution_count": 59,
     "metadata": {},
     "output_type": "execute_result"
    }
   ],
   "source": [
    "outliers.head()"
   ]
  },
  {
   "cell_type": "code",
   "execution_count": 60,
   "id": "9e191290",
   "metadata": {},
   "outputs": [
    {
     "name": "stdout",
     "output_type": "stream",
     "text": [
      "4.586338230639608\n"
     ]
    }
   ],
   "source": [
    "#get total customer ids\n",
    "\n",
    "total_customers = len(df['customer_id'].unique())\n",
    "total_orders = len(df['order_id'].unique())\n",
    "\n",
    "#Avg orders per customer = \n",
    "avg_orders = total_orders/total_customers\n",
    "print(avg_orders)"
   ]
  },
  {
   "cell_type": "code",
   "execution_count": 61,
   "id": "52dd426c",
   "metadata": {},
   "outputs": [
    {
     "name": "stdout",
     "output_type": "stream",
     "text": [
      "565549\n",
      "2593799\n"
     ]
    }
   ],
   "source": [
    "print(total_customers)\n",
    "print(total_orders)"
   ]
  },
  {
   "cell_type": "code",
   "execution_count": 62,
   "id": "bf1a82b3",
   "metadata": {},
   "outputs": [
    {
     "name": "stdout",
     "output_type": "stream",
     "text": [
      "16096\n",
      "17430\n"
     ]
    }
   ],
   "source": [
    "total_customers_outliers = len(outliers['customer_id'].unique())\n",
    "total_orders_outliers = len(outliers['order_id'].unique())\n",
    "print(total_customers_outliers)\n",
    "print(total_orders_outliers)"
   ]
  },
  {
   "cell_type": "code",
   "execution_count": 68,
   "id": "3e279181",
   "metadata": {},
   "outputs": [
    {
     "name": "stdout",
     "output_type": "stream",
     "text": [
      "423.5\n"
     ]
    }
   ],
   "source": [
    "print(max(outliers['order_value']))"
   ]
  },
  {
   "cell_type": "code",
   "execution_count": 132,
   "id": "ab9bfc74",
   "metadata": {},
   "outputs": [
    {
     "data": {
      "text/plain": [
       "'\\nThere are 2.5 million orders and 0.5 million customers which is about 4.5 orders per customer on an average\\nCalculating the distribution of orders, there are clear outliers. Using basic instincts w.r.t acceptable distances, approx \\n\\n'"
      ]
     },
     "execution_count": 132,
     "metadata": {},
     "output_type": "execute_result"
    }
   ],
   "source": [
    "#Comments\n",
    "'''\n",
    "There are 2.5 million orders and 0.5 million customers which is about 4.5 orders per customer on an average\n",
    "Calculating the distribution of orders, there are clear outliers. Using basic instincts w.r.t acceptable distances, approx \n",
    "99 percentile is within a km, whereas the last one percentile extends to 1.5 million m. \n",
    "'''"
   ]
  },
  {
   "cell_type": "code",
   "execution_count": 1,
   "id": "c4ddd3c3",
   "metadata": {},
   "outputs": [
    {
     "ename": "NameError",
     "evalue": "name 'df' is not defined",
     "output_type": "error",
     "traceback": [
      "\u001b[0;31m---------------------------------------------------------------------------\u001b[0m",
      "\u001b[0;31mNameError\u001b[0m                                 Traceback (most recent call last)",
      "\u001b[0;32m<ipython-input-1-bdc871c6c5ac>\u001b[0m in \u001b[0;36m<module>\u001b[0;34m\u001b[0m\n\u001b[0;32m----> 1\u001b[0;31m \u001b[0mgrouped\u001b[0m \u001b[0;34m=\u001b[0m \u001b[0mdf\u001b[0m\u001b[0;34m.\u001b[0m\u001b[0mgroupby\u001b[0m\u001b[0;34m(\u001b[0m\u001b[0;34m'customer_id'\u001b[0m\u001b[0;34m)\u001b[0m\u001b[0;34m[\u001b[0m\u001b[0;34m[\u001b[0m\u001b[0;34m'order_id'\u001b[0m\u001b[0;34m]\u001b[0m\u001b[0;34m]\u001b[0m\u001b[0;34m.\u001b[0m\u001b[0mcount\u001b[0m\u001b[0;34m(\u001b[0m\u001b[0;34m)\u001b[0m\u001b[0;34m.\u001b[0m\u001b[0mreset_index\u001b[0m\u001b[0;34m(\u001b[0m\u001b[0;34m)\u001b[0m\u001b[0;34m\u001b[0m\u001b[0;34m\u001b[0m\u001b[0m\n\u001b[0m\u001b[1;32m      2\u001b[0m \u001b[0mgrouped\u001b[0m \u001b[0;34m=\u001b[0m \u001b[0mgrouped\u001b[0m\u001b[0;34m[\u001b[0m\u001b[0mgrouped\u001b[0m\u001b[0;34m[\u001b[0m\u001b[0;34m'order_id'\u001b[0m\u001b[0;34m]\u001b[0m \u001b[0;34m>\u001b[0m \u001b[0;36m5\u001b[0m\u001b[0;34m]\u001b[0m\u001b[0;34m\u001b[0m\u001b[0;34m\u001b[0m\u001b[0m\n\u001b[1;32m      3\u001b[0m \u001b[0;31m# output = grouped.filter(lambda x: x['order_id'].count() > 5)\u001b[0m\u001b[0;34m\u001b[0m\u001b[0;34m\u001b[0m\u001b[0;34m\u001b[0m\u001b[0m\n",
      "\u001b[0;31mNameError\u001b[0m: name 'df' is not defined"
     ]
    }
   ],
   "source": [
    "grouped = df.groupby('customer_id')[['order_id']].count().reset_index()\n",
    "grouped = grouped[grouped['order_id'] > 5]\n",
    "# output = grouped.filter(lambda x: x['order_id'].count() > 5)"
   ]
  },
  {
   "cell_type": "code",
   "execution_count": 108,
   "id": "f13700a4",
   "metadata": {},
   "outputs": [
    {
     "name": "stdout",
     "output_type": "stream",
     "text": [
      "373632\n"
     ]
    }
   ],
   "source": [
    "print(len(grouped))"
   ]
  },
  {
   "cell_type": "code",
   "execution_count": 109,
   "id": "33b2c4ae",
   "metadata": {},
   "outputs": [
    {
     "data": {
      "text/plain": [
       "2401882"
      ]
     },
     "execution_count": 109,
     "metadata": {},
     "output_type": "execute_result"
    }
   ],
   "source": [
    "grouped['order_id'].sum()"
   ]
  },
  {
   "cell_type": "code",
   "execution_count": 110,
   "id": "571d2eab",
   "metadata": {},
   "outputs": [
    {
     "data": {
      "text/plain": [
       "24.488594268577966"
      ]
     },
     "execution_count": 110,
     "metadata": {},
     "output_type": "execute_result"
    }
   ],
   "source": [
    "138495*100/565549"
   ]
  },
  {
   "cell_type": "code",
   "execution_count": 111,
   "id": "72431e0e",
   "metadata": {},
   "outputs": [
    {
     "data": {
      "text/plain": [
       "65.04108452505379"
      ]
     },
     "execution_count": 111,
     "metadata": {},
     "output_type": "execute_result"
    }
   ],
   "source": [
    "1687035 *100 / 2593799"
   ]
  },
  {
   "cell_type": "code",
   "execution_count": 185,
   "id": "7dd07f34",
   "metadata": {},
   "outputs": [
    {
     "name": "stdout",
     "output_type": "stream",
     "text": [
      "187.07948436211254\n",
      "95\n",
      "96\n",
      "97\n",
      "98\n",
      "99\n",
      "100\n",
      "[154.06490707527, 185.0475324617922, 239.27216832541404, 348.2484280898161, 698.9862677974243, 15328253.689635966]\n"
     ]
    }
   ],
   "source": [
    "def determine_outliers(list_of_nums, return_vals = True):\n",
    "#     array_num = np.array(list_of_nums)\n",
    "    p_val = []\n",
    "    thresh = 2*np.mean(list_of_nums)\n",
    "    print(thresh)\n",
    "#     mean_vals = []\n",
    "    for i in range(95,101,1):\n",
    "        print(i)\n",
    "        p = np.percentile(list_of_nums, i)\n",
    "        p_val.append(p)\n",
    "        \n",
    "    percentile_to_consider = (np.diff(p_val) > 1000).tolist().count(False)\n",
    "    return p_val\n",
    "    \n",
    "        \n",
    "dropoffs = sorted(df['logistics_dropoff_distance'].tolist(), reverse=False)     \n",
    "p_val = determine_outliers(dropoffs)\n",
    "print(p_val)"
   ]
  },
  {
   "cell_type": "code",
   "execution_count": 136,
   "id": "1953a96d",
   "metadata": {},
   "outputs": [
    {
     "name": "stdout",
     "output_type": "stream",
     "text": [
      "4\n"
     ]
    }
   ],
   "source": [
    "p_arr = np.array(p_val)\n",
    "percentile_bool = (np.diff(p_val) > 1000).tolist().count(False)\n",
    "print(percentile_bool)"
   ]
  },
  {
   "cell_type": "code",
   "execution_count": 116,
   "id": "d8ee7236",
   "metadata": {},
   "outputs": [
    {
     "name": "stdout",
     "output_type": "stream",
     "text": [
      "[19707.6556323574, 19718.0622340722, 19742.9046873811, 19780.4840920834, 20001.6277735896, 20019.2463858774, 20056.4150744178, 20060.3555195523, 20101.9425851105, 20260.7749933382, 20279.0219976277, 20293.5336666758, 20341.9619586873, 20345.2306550318, 20368.9722111514, 20375.4326999042, 20387.4372275038, 20391.5555070424, 20402.7084570427, 20439.3355058703, 20450.9772991144, 20462.3458653286, 20462.7719346585, 20496.5509082464, 20500.7874066584, 20516.5464138549, 20617.6476167637, 20624.7170677006, 20635.1686286692, 20641.9066302387, 20681.8447892027, 20726.2780428216, 20739.6859009189, 20801.6447007661, 20926.6299910741, 20945.8474970538, 20973.315585007, 21005.9333300732, 21034.3968142025, 21073.4765899608, 21085.7554961205, 21097.6935369628, 21123.9501770421, 21162.6588354351, 21176.1577631012, 21243.1358747651, 21255.5308471719, 21274.4863403069, 21285.5916242864, 21292.3835007044, 21296.0893796248, 21319.0211662362, 21341.2801121492, 21343.0723107507, 21354.6764539694, 21503.925543676, 21512.4876400734, 21534.2736188378, 21645.7001011211, 21940.0581102091, 21959.5586060735, 21967.0097415098, 22006.3040188333, 22018.2489946991, 22024.30064787, 22033.0721476831, 22040.6859600415, 22052.2071536997, 22086.9617071663, 22231.5285809306, 22272.6121684521, 22294.2638672488, 22301.3289365855, 22491.8014335864, 22531.0689415929, 22788.9888419003, 23083.5584070938, 23157.2784152483, 23301.5841164035, 23488.9687422852, 23622.8837864834, 23706.6458302549, 23758.6720901573, 23916.7339864821, 24007.6463911722, 24249.0206507898, 24469.5765539378, 24626.4343068385, 24648.3997362436, 24846.5059176773, 25747.3825405105, 27968.2132244523, 28345.3721673169, 29377.768693361, 29716.3062760528, 588302.5752625422, 2821744.3900094843, 15164243.813825067, 15321117.385899827, 15328253.689635966]\n"
     ]
    }
   ],
   "source": [
    "print(dropoffs[-100:])"
   ]
  },
  {
   "cell_type": "code",
   "execution_count": 121,
   "id": "c77c654a",
   "metadata": {},
   "outputs": [
    {
     "name": "stdout",
     "output_type": "stream",
     "text": [
      "3.5\n"
     ]
    }
   ],
   "source": [
    "a = [1,2,3,4,5,6]\n",
    "print(np.percentile(a,50))"
   ]
  },
  {
   "cell_type": "code",
   "execution_count": 149,
   "id": "576c784f",
   "metadata": {},
   "outputs": [
    {
     "name": "stdout",
     "output_type": "stream",
     "text": [
      "15328253.689635966\n",
      "872.35\n",
      "10.0\n"
     ]
    }
   ],
   "source": [
    "print(df.logistics_dropoff_distance.quantile(1.0))\n",
    "print(df.order_value.quantile(1.0))\n",
    "print(df.order_items_count.quantile(0.99))"
   ]
  },
  {
   "cell_type": "code",
   "execution_count": 138,
   "id": "20f1ed51",
   "metadata": {},
   "outputs": [
    {
     "data": {
      "text/plain": [
       "(array([2.573456e+06, 1.853800e+04, 1.369000e+03, 3.430000e+02,\n",
       "        5.800000e+01, 2.100000e+01, 1.000000e+01, 2.000000e+00,\n",
       "        0.000000e+00, 2.000000e+00]),\n",
       " array([  0.   ,  87.235, 174.47 , 261.705, 348.94 , 436.175, 523.41 ,\n",
       "        610.645, 697.88 , 785.115, 872.35 ]),\n",
       " <BarContainer object of 10 artists>)"
      ]
     },
     "execution_count": 138,
     "metadata": {},
     "output_type": "execute_result"
    },
    {
     "data": {
      "image/png": "[encoded data removed]",
      "text/plain": [
       "<Figure size 432x288 with 1 Axes>"
      ]
     },
     "metadata": {
      "needs_background": "light"
     },
     "output_type": "display_data"
    }
   ],
   "source": [
    "plt.hist(df['order_value'])"
   ]
  },
  {
   "cell_type": "code",
   "execution_count": 155,
   "id": "4d499fa6",
   "metadata": {},
   "outputs": [
    {
     "data": {
      "text/plain": [
       "(array([159.,   0.,   1.,   1.,   0.,   0.,   0.,   0.,   0.,   1.]),\n",
       " array([3.51621090e-02, 1.48765134e+03, 2.97526752e+03, 4.46288369e+03,\n",
       "        5.95049987e+03, 7.43811604e+03, 8.92573222e+03, 1.04133484e+04,\n",
       "        1.19009646e+04, 1.33885808e+04, 1.48761969e+04]),\n",
       " <BarContainer object of 10 artists>)"
      ]
     },
     "execution_count": 155,
     "metadata": {},
     "output_type": "execute_result"
    },
    {
     "data": {
      "image/png": "[encoded data removed]",
      "text/plain": [
       "<Figure size 432x288 with 1 Axes>"
      ]
     },
     "metadata": {
      "needs_background": "light"
     },
     "output_type": "display_data"
    }
   ],
   "source": [
    "orders_great = df[df['order_items_count']>30]\n",
    "plt.hist(orders_great['logistics_dropoff_distance'])"
   ]
  },
  {
   "cell_type": "code",
   "execution_count": 153,
   "id": "4ef284d3",
   "metadata": {},
   "outputs": [
    {
     "name": "stdout",
     "output_type": "stream",
     "text": [
      "5\n"
     ]
    }
   ],
   "source": [
    "print(len(orders_great))"
   ]
  },
  {
   "cell_type": "code",
   "execution_count": 156,
   "id": "a0d6f1d2",
   "metadata": {},
   "outputs": [],
   "source": [
    "def extract_geo8(df):\n",
    "    for i in range(2,7):\n",
    "        df['delivery_geohash_precision{}'.format(i)] = df['delivery_geohash_precision8'].apply(lambda x: x[:i])\n",
    "    return df\n",
    "\n",
    "df = extract_geo8(df)"
   ]
  },
  {
   "cell_type": "code",
   "execution_count": 157,
   "id": "53aa3605",
   "metadata": {},
   "outputs": [
    {
     "name": "stdout",
     "output_type": "stream",
     "text": [
      "Index(['index', 'order_id', 'order_value', 'order_items_count', 'customer_id',\n",
      "       'created_timestamp_local', 'has_instruction',\n",
      "       'logistics_dropoff_distance', 'delivery_postal_code',\n",
      "       'delivery_geohash_precision8', 'has_phone_number',\n",
      "       'has_call_instruction', 'has_leave_instruction', 'has_lift_instruction',\n",
      "       'has_lobby_instruction', 'has_gate_instruction',\n",
      "       'has_knock_instruction', 'has_bell_instruction',\n",
      "       'delivery_geohash_precision2', 'delivery_geohash_precision3',\n",
      "       'delivery_geohash_precision4', 'delivery_geohash_precision5',\n",
      "       'delivery_geohash_precision6'],\n",
      "      dtype='object')\n"
     ]
    }
   ],
   "source": [
    "print(df.columns)"
   ]
  },
  {
   "cell_type": "code",
   "execution_count": 170,
   "id": "08db1aab",
   "metadata": {},
   "outputs": [
    {
     "name": "stdout",
     "output_type": "stream",
     "text": [
      "2\n",
      "3\n",
      "4\n",
      "5\n",
      "6\n"
     ]
    }
   ],
   "source": [
    "means = {}\n",
    "for i in range(2,7):\n",
    "    print(i)\n",
    "    key = 'delivery_geohash_precision'+str(i)\n",
    "    means[str(i)] = []\n",
    "    for val in pd.unique(df[key].values):\n",
    "        subs = df[df[key]==val]\n",
    "        means[str(i)].append((val,np.median(subs['logistics_dropoff_distance']), len(subs)))\n",
    "        \n",
    "# for item in means['6']:\n",
    "#     if item[1] < 100:\n",
    "#         print(item)"
   ]
  },
  {
   "cell_type": "code",
   "execution_count": null,
   "id": "16f8572d",
   "metadata": {},
   "outputs": [],
   "source": []
  }
 ],
 "metadata": {
  "kernelspec": {
   "display_name": "Python 3",
   "language": "python",
   "name": "python3"
  },
  "language_info": {
   "codemirror_mode": {
    "name": "ipython",
    "version": 3
   },
   "file_extension": ".py",
   "mimetype": "text/x-python",
   "name": "python",
   "nbconvert_exporter": "python",
   "pygments_lexer": "ipython3",
   "version": "3.9.5"
  }
 },
 "nbformat": 4,
 "nbformat_minor": 5
}
