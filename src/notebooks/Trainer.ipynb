{
 "cells": [
  {
   "cell_type": "code",
   "execution_count": 14,
   "id": "f1420830",
   "metadata": {},
   "outputs": [],
   "source": [
    "import pandas as pd\n",
    "import sklearn\n",
    "import numpy as np\n",
    "import os\n",
    "import seaborn as sns\n",
    "import matplotlib.pyplot as plt\n",
    "\n",
    "from sklearn.model_selection import train_test_split\n",
    "from sklearn.feature_selection import VarianceThreshold\n",
    "from sklearn.pipeline import make_pipeline, Pipeline\n",
    "from sklearn.preprocessing import StandardScaler, RobustScaler, OneHotEncoder\n",
    "from sklearn.linear_model import LinearRegression, Ridge, Lasso\n",
    "from sklearn import svm\n",
    "from sklearn.compose import ColumnTransformer\n",
    "from sklearn.metrics import f1_score, accuracy_score\n",
    "from sklearn.ensemble import RandomForestRegressor\n",
    "from sklearn.metrics import mean_squared_error, mean_absolute_error\n",
    "from sklearn import tree\n",
    "from sklearn.ensemble import RandomForestRegressor\n",
    "from sklearn.ensemble import ExtraTreesRegressor\n",
    "from joblib import dump, load\n",
    "from sklearn.kernel_approximation import RBFSampler\n"
   ]
  },
  {
   "cell_type": "markdown",
   "id": "7473d42a",
   "metadata": {},
   "source": [
    "After the preliminary analysis, we can proceed with the training. We are using 3 extra features that were created, along with all numeric columns. The instructions are used as well, with the index, order_id, customer_id geohash and postalcode being dropped."
   ]
  },
  {
   "cell_type": "code",
   "execution_count": 2,
   "id": "4e6a9317",
   "metadata": {},
   "outputs": [
    {
     "data": {
      "text/html": [
       "<div>\n",
       "<style scoped>\n",
       "    .dataframe tbody tr th:only-of-type {\n",
       "        vertical-align: middle;\n",
       "    }\n",
       "\n",
       "    .dataframe tbody tr th {\n",
       "        vertical-align: top;\n",
       "    }\n",
       "\n",
       "    .dataframe thead th {\n",
       "        text-align: right;\n",
       "    }\n",
       "</style>\n",
       "<table border=\"1\" class=\"dataframe\">\n",
       "  <thead>\n",
       "    <tr style=\"text-align: right;\">\n",
       "      <th></th>\n",
       "      <th>index</th>\n",
       "      <th>order_id</th>\n",
       "      <th>order_value</th>\n",
       "      <th>order_items_count</th>\n",
       "      <th>customer_id</th>\n",
       "      <th>created_timestamp_local</th>\n",
       "      <th>has_instruction</th>\n",
       "      <th>logistics_dropoff_distance</th>\n",
       "      <th>delivery_postal_code</th>\n",
       "      <th>delivery_geohash_precision8</th>\n",
       "      <th>...</th>\n",
       "      <th>has_call_instruction</th>\n",
       "      <th>has_leave_instruction</th>\n",
       "      <th>has_lift_instruction</th>\n",
       "      <th>has_lobby_instruction</th>\n",
       "      <th>has_gate_instruction</th>\n",
       "      <th>has_knock_instruction</th>\n",
       "      <th>has_bell_instruction</th>\n",
       "      <th>hour</th>\n",
       "      <th>is_w21xz</th>\n",
       "      <th>is_w23b7</th>\n",
       "    </tr>\n",
       "  </thead>\n",
       "  <tbody>\n",
       "    <tr>\n",
       "      <th>0</th>\n",
       "      <td>618</td>\n",
       "      <td>b8ds-tqhf</td>\n",
       "      <td>40.44</td>\n",
       "      <td>10</td>\n",
       "      <td>h6huq0td</td>\n",
       "      <td>2021-03-11T20:19:50</td>\n",
       "      <td>True</td>\n",
       "      <td>58.656138</td>\n",
       "      <td>828868</td>\n",
       "      <td>w23bh248</td>\n",
       "      <td>...</td>\n",
       "      <td>False</td>\n",
       "      <td>False</td>\n",
       "      <td>False</td>\n",
       "      <td>False</td>\n",
       "      <td>False</td>\n",
       "      <td>False</td>\n",
       "      <td>False</td>\n",
       "      <td>20</td>\n",
       "      <td>False</td>\n",
       "      <td>False</td>\n",
       "    </tr>\n",
       "    <tr>\n",
       "      <th>1</th>\n",
       "      <td>619</td>\n",
       "      <td>x5xx-j2d2</td>\n",
       "      <td>35.60</td>\n",
       "      <td>10</td>\n",
       "      <td>t2nod4rq</td>\n",
       "      <td>2021-03-12T18:42:48</td>\n",
       "      <td>True</td>\n",
       "      <td>39.025148</td>\n",
       "      <td>530548</td>\n",
       "      <td>w21zu55k</td>\n",
       "      <td>...</td>\n",
       "      <td>False</td>\n",
       "      <td>False</td>\n",
       "      <td>False</td>\n",
       "      <td>False</td>\n",
       "      <td>False</td>\n",
       "      <td>False</td>\n",
       "      <td>False</td>\n",
       "      <td>18</td>\n",
       "      <td>False</td>\n",
       "      <td>False</td>\n",
       "    </tr>\n",
       "    <tr>\n",
       "      <th>2</th>\n",
       "      <td>620</td>\n",
       "      <td>x6qu-14kt</td>\n",
       "      <td>42.49</td>\n",
       "      <td>12</td>\n",
       "      <td>m4ycd3tm</td>\n",
       "      <td>2021-03-27T11:29:17</td>\n",
       "      <td>True</td>\n",
       "      <td>40.067811</td>\n",
       "      <td>650248</td>\n",
       "      <td>w21z9jc4</td>\n",
       "      <td>...</td>\n",
       "      <td>False</td>\n",
       "      <td>True</td>\n",
       "      <td>False</td>\n",
       "      <td>False</td>\n",
       "      <td>False</td>\n",
       "      <td>False</td>\n",
       "      <td>False</td>\n",
       "      <td>11</td>\n",
       "      <td>False</td>\n",
       "      <td>False</td>\n",
       "    </tr>\n",
       "    <tr>\n",
       "      <th>3</th>\n",
       "      <td>621</td>\n",
       "      <td>x3yw-rhc5</td>\n",
       "      <td>14.40</td>\n",
       "      <td>11</td>\n",
       "      <td>sgmnf9sb</td>\n",
       "      <td>2021-03-02T22:08:52</td>\n",
       "      <td>True</td>\n",
       "      <td>44.986785</td>\n",
       "      <td>550105</td>\n",
       "      <td>w21zg97y</td>\n",
       "      <td>...</td>\n",
       "      <td>False</td>\n",
       "      <td>False</td>\n",
       "      <td>False</td>\n",
       "      <td>False</td>\n",
       "      <td>False</td>\n",
       "      <td>False</td>\n",
       "      <td>False</td>\n",
       "      <td>22</td>\n",
       "      <td>False</td>\n",
       "      <td>False</td>\n",
       "    </tr>\n",
       "    <tr>\n",
       "      <th>4</th>\n",
       "      <td>622</td>\n",
       "      <td>y9zp-58q7</td>\n",
       "      <td>38.15</td>\n",
       "      <td>10</td>\n",
       "      <td>x4rvv3iy</td>\n",
       "      <td>2021-03-23T20:35:26</td>\n",
       "      <td>True</td>\n",
       "      <td>71.520828</td>\n",
       "      <td>102112</td>\n",
       "      <td>w21z61q6</td>\n",
       "      <td>...</td>\n",
       "      <td>False</td>\n",
       "      <td>False</td>\n",
       "      <td>False</td>\n",
       "      <td>False</td>\n",
       "      <td>False</td>\n",
       "      <td>False</td>\n",
       "      <td>False</td>\n",
       "      <td>20</td>\n",
       "      <td>False</td>\n",
       "      <td>False</td>\n",
       "    </tr>\n",
       "  </tbody>\n",
       "</table>\n",
       "<p>5 rows × 21 columns</p>\n",
       "</div>"
      ],
      "text/plain": [
       "   index   order_id  order_value  order_items_count customer_id  \\\n",
       "0    618  b8ds-tqhf        40.44                 10    h6huq0td   \n",
       "1    619  x5xx-j2d2        35.60                 10    t2nod4rq   \n",
       "2    620  x6qu-14kt        42.49                 12    m4ycd3tm   \n",
       "3    621  x3yw-rhc5        14.40                 11    sgmnf9sb   \n",
       "4    622  y9zp-58q7        38.15                 10    x4rvv3iy   \n",
       "\n",
       "  created_timestamp_local  has_instruction  logistics_dropoff_distance  \\\n",
       "0     2021-03-11T20:19:50             True                   58.656138   \n",
       "1     2021-03-12T18:42:48             True                   39.025148   \n",
       "2     2021-03-27T11:29:17             True                   40.067811   \n",
       "3     2021-03-02T22:08:52             True                   44.986785   \n",
       "4     2021-03-23T20:35:26             True                   71.520828   \n",
       "\n",
       "  delivery_postal_code delivery_geohash_precision8  ...  has_call_instruction  \\\n",
       "0               828868                    w23bh248  ...                 False   \n",
       "1               530548                    w21zu55k  ...                 False   \n",
       "2               650248                    w21z9jc4  ...                 False   \n",
       "3               550105                    w21zg97y  ...                 False   \n",
       "4               102112                    w21z61q6  ...                 False   \n",
       "\n",
       "   has_leave_instruction  has_lift_instruction  has_lobby_instruction  \\\n",
       "0                  False                 False                  False   \n",
       "1                  False                 False                  False   \n",
       "2                   True                 False                  False   \n",
       "3                  False                 False                  False   \n",
       "4                  False                 False                  False   \n",
       "\n",
       "   has_gate_instruction  has_knock_instruction  has_bell_instruction  hour  \\\n",
       "0                 False                  False                 False    20   \n",
       "1                 False                  False                 False    18   \n",
       "2                 False                  False                 False    11   \n",
       "3                 False                  False                 False    22   \n",
       "4                 False                  False                 False    20   \n",
       "\n",
       "   is_w21xz  is_w23b7  \n",
       "0     False     False  \n",
       "1     False     False  \n",
       "2     False     False  \n",
       "3     False     False  \n",
       "4     False     False  \n",
       "\n",
       "[5 rows x 21 columns]"
      ]
     },
     "execution_count": 2,
     "metadata": {},
     "output_type": "execute_result"
    }
   ],
   "source": [
    "deliveries_data = pd.read_csv('file_for_training.csv')\n",
    "deliveries_data.head()"
   ]
  },
  {
   "cell_type": "code",
   "execution_count": 3,
   "id": "8f4ecb53",
   "metadata": {},
   "outputs": [],
   "source": [
    "num_features = ['order_value', 'order_items_count']\n",
    "fact_features = [\"hour\",\"is_w21xz\",\"is_w23b7\",'has_instruction', 'has_phone_number', 'has_call_instruction', 'has_leave_instruction', 'has_lift_instruction', 'has_lobby_instruction', 'has_gate_instruction', 'has_knock_instruction', 'has_bell_instruction']\n",
    "\n",
    "target = ['logistics_dropoff_distance']\n",
    "# print(deliveries_data.columns)\n",
    "\n",
    "\n",
    "numeric_features = deliveries_data.select_dtypes(include=['int64', 'float64']).drop(['index', 'logistics_dropoff_distance'], axis=1).columns\n",
    "categorical_features = deliveries_data.select_dtypes(include=['object', 'bool']).drop(['delivery_geohash_precision8','created_timestamp_local', 'delivery_postal_code', 'order_id', 'customer_id'], axis = 1).columns\n",
    "\n"
   ]
  },
  {
   "cell_type": "code",
   "execution_count": 4,
   "id": "9f379fcc",
   "metadata": {},
   "outputs": [],
   "source": [
    "#shuffle plus splits\n",
    "deliveries_data = deliveries_data.sample(frac=1, random_state=19).reset_index(drop=True)\n",
    "X_train, X_test, y_train, y_test = train_test_split(deliveries_data[num_features + fact_features], deliveries_data['logistics_dropoff_distance'].tolist(), test_size=0.20, random_state=19)\n",
    "# X_train, X_val, y_train, y_val = train_test_split(X_train, y_train, test_size=0.20,\n",
    "#                                                                               random_state=19)\n"
   ]
  },
  {
   "cell_type": "code",
   "execution_count": 5,
   "id": "0b32831d",
   "metadata": {},
   "outputs": [
    {
     "data": {
      "text/plain": [
       "Index(['order_value', 'order_items_count', 'hour', 'is_w21xz', 'is_w23b7',\n",
       "       'has_instruction', 'has_phone_number', 'has_call_instruction',\n",
       "       'has_leave_instruction', 'has_lift_instruction',\n",
       "       'has_lobby_instruction', 'has_gate_instruction',\n",
       "       'has_knock_instruction', 'has_bell_instruction'],\n",
       "      dtype='object')"
      ]
     },
     "execution_count": 5,
     "metadata": {},
     "output_type": "execute_result"
    }
   ],
   "source": [
    "X_train.columns"
   ]
  },
  {
   "cell_type": "markdown",
   "id": "75409cba",
   "metadata": {},
   "source": [
    "We obtain a baseline error for both RMSE and MAE. This will help set benchmarks and help us understand the benefits of models. Evaluations selected for continous variables are Mean Absolute Error and Root Mean Square Error. MAE will help understand the actual average error whereas RMSE helps from the persepctive of model improvement."
   ]
  },
  {
   "cell_type": "code",
   "execution_count": 6,
   "id": "1d47ede1",
   "metadata": {},
   "outputs": [
    {
     "name": "stdout",
     "output_type": "stream",
     "text": [
      "76.78102851459481\n",
      "38.10485845954867\n"
     ]
    }
   ],
   "source": [
    "#setting two baselines - \n",
    "y_pred_test_base1 = [np.mean(y_train)]*len(y_test)\n",
    "\n",
    "#Evaluate using Mean Absolute Error & RMSE\n",
    "print((mean_squared_error(y_pred_test_base1, y_test, squared=False)))\n",
    "\n",
    "print((mean_absolute_error(y_pred_test_base1, y_test)))"
   ]
  },
  {
   "cell_type": "markdown",
   "id": "0670af5f",
   "metadata": {},
   "source": [
    "Using the mean of the entire dataset, we get an error of 76.53m for RMSE and 38.09m for MAE"
   ]
  },
  {
   "cell_type": "markdown",
   "id": "3075ee7d",
   "metadata": {},
   "source": [
    "We've earlier seen the distribution and are aware that more than 90% of distances are within 100m and 97% are within 200m. We use a weighted mean to predict the dropoff distance"
   ]
  },
  {
   "cell_type": "code",
   "execution_count": 7,
   "id": "e19ddf89",
   "metadata": {},
   "outputs": [
    {
     "name": "stdout",
     "output_type": "stream",
     "text": [
      "79.25556496206427\n",
      "34.438615305002855\n"
     ]
    }
   ],
   "source": [
    "#setting baseline with weighted mean of 97% of observations\n",
    "'''\n",
    "obs between 0-100, 100-200\n",
    "print(len([item for item in y_train if item < 100]))\n",
    "print(len([item for item in y_train if 100 <= item < 201]))\n",
    "'''\n",
    "def calculate_weighted_mean(list_of_values, ranges_list, counts):\n",
    "    assert len(counts)==len(ranges_list) \n",
    "    weighted_mean = 0\n",
    "    total_count = len([val for val in list_of_values if val <200])\n",
    "    for n,interval in enumerate(ranges_list):\n",
    "        weight = counts[n]/total_count\n",
    "        list_subset = [v for v in list_of_values if interval[0] <= v < interval[1]]\n",
    "        weighted_mean += weight*np.mean(list_subset)\n",
    "        \n",
    "        \n",
    "        \n",
    "    return weighted_mean\n",
    "\n",
    "weighted_mean = calculate_weighted_mean(y_train, [(0,100), (100,200)], [1484737,114919])\n",
    "    \n",
    "\n",
    "#Evaluate using Mean Absolute Error & RMSE\n",
    "\n",
    "y_pred_test_base2 = [weighted_mean]*len(y_test)\n",
    "print((mean_squared_error(y_pred_test_base2, y_test, squared=False)))\n",
    "\n",
    "print((mean_absolute_error(y_pred_test_base2, y_test)))\n"
   ]
  },
  {
   "cell_type": "markdown",
   "id": "569c6c6d",
   "metadata": {},
   "source": [
    "Using the mean of the main chunk of the dataset, we have significantly reduced the average error to 34.40m for MAE. Note that we get penalized for huge distances, thus RMSE increased to 78.99m"
   ]
  },
  {
   "cell_type": "markdown",
   "id": "6edefb96",
   "metadata": {},
   "source": [
    "Baseline Accuracy"
   ]
  },
  {
   "cell_type": "code",
   "execution_count": 8,
   "id": "8edc48c1",
   "metadata": {},
   "outputs": [
    {
     "data": {
      "text/html": [
       "<div>\n",
       "<style scoped>\n",
       "    .dataframe tbody tr th:only-of-type {\n",
       "        vertical-align: middle;\n",
       "    }\n",
       "\n",
       "    .dataframe tbody tr th {\n",
       "        vertical-align: top;\n",
       "    }\n",
       "\n",
       "    .dataframe thead th {\n",
       "        text-align: right;\n",
       "    }\n",
       "</style>\n",
       "<table border=\"1\" class=\"dataframe\">\n",
       "  <thead>\n",
       "    <tr style=\"text-align: right;\">\n",
       "      <th></th>\n",
       "      <th>Model</th>\n",
       "      <th>RMSE</th>\n",
       "      <th>MAE</th>\n",
       "    </tr>\n",
       "  </thead>\n",
       "  <tbody>\n",
       "    <tr>\n",
       "      <th>0</th>\n",
       "      <td>Entire dataset mean</td>\n",
       "      <td>76.53</td>\n",
       "      <td>38.09</td>\n",
       "    </tr>\n",
       "    <tr>\n",
       "      <th>1</th>\n",
       "      <td>Below 200m mean</td>\n",
       "      <td>78.99</td>\n",
       "      <td>34.40</td>\n",
       "    </tr>\n",
       "  </tbody>\n",
       "</table>\n",
       "</div>"
      ],
      "text/plain": [
       "                 Model   RMSE    MAE\n",
       "0  Entire dataset mean  76.53  38.09\n",
       "1      Below 200m mean  78.99  34.40"
      ]
     },
     "execution_count": 8,
     "metadata": {},
     "output_type": "execute_result"
    }
   ],
   "source": [
    "baseline = pd.DataFrame({'Model': ['Entire dataset mean', 'Below 200m mean'], 'RMSE':[76.53, 78.99], 'MAE':[38.09, 34.40]})\n",
    "baseline.head()"
   ]
  },
  {
   "cell_type": "code",
   "execution_count": 9,
   "id": "3fc3d9b0",
   "metadata": {},
   "outputs": [
    {
     "name": "stdout",
     "output_type": "stream",
     "text": [
      "LinearRegression()\n",
      "Root Mean Squared Error is..\n",
      "76.74259062448374\n",
      "Mean Absolute Error is..\n",
      "38.06008007220691\n",
      "Ridge(alpha=0.1, max_iter=5000, solver='sparse_cg')\n",
      "Root Mean Squared Error is..\n",
      "76.74256992903723\n",
      "Mean Absolute Error is..\n",
      "38.060105607939775\n",
      "Lasso(positive=True, selection='random', warm_start=True)\n",
      "Root Mean Squared Error is..\n",
      "76.77391629837416\n",
      "Mean Absolute Error is..\n",
      "38.09765332558676\n"
     ]
    }
   ],
   "source": [
    "oe = OneHotEncoder()\n",
    "numeric_transformer = Pipeline(steps=[\n",
    "    ('scaler', RobustScaler())])\n",
    "categorical_transformer = Pipeline(steps=[('encoder',oe )])\n",
    "preprocessor = ColumnTransformer(\n",
    "transformers=[\n",
    "    ('num', numeric_transformer, numeric_features),\n",
    "    ('cat', categorical_transformer, categorical_features)])\n",
    "\n",
    "linear_classifiers = [LinearRegression(), Ridge(alpha=0.1, max_iter=5000 ,solver='sparse_cg'), Lasso(selection='random', warm_start=True,positive=True)]\n",
    "\n",
    "lr_text= ['Linear Regression', 'Ridge Regression', 'Lasso Regression']\n",
    "for n,classifier in enumerate(linear_classifiers):\n",
    "    linear_dict = {}\n",
    "\n",
    "    print(classifier)\n",
    "    linear_dict['Model'] = (lr_text[n])\n",
    "    pipe = Pipeline(steps=[('preprocessor', preprocessor),\n",
    "                  ('classifier', classifier)])\n",
    "    \n",
    "    model = pipe.fit(X_train, y_train)\n",
    "\n",
    "    y_pred = model.predict(X_test)\n",
    "    print(\"Root Mean Squared Error is..\")\n",
    "    print(mean_squared_error(y_pred, y_test, squared=False))\n",
    "    linear_dict['RMSE'] = mean_squared_error(y_pred, y_test, squared=False)\n",
    "    print(\"Mean Absolute Error is..\")\n",
    "    print((mean_absolute_error(y_pred, y_test)))\n",
    "    linear_dict['MAE'] = mean_absolute_error(y_pred, y_test)\n",
    "    baseline = baseline.append(pd.Series(linear_dict), ignore_index = True)"
   ]
  },
  {
   "cell_type": "code",
   "execution_count": 10,
   "id": "2824bcb1",
   "metadata": {},
   "outputs": [
    {
     "data": {
      "text/html": [
       "<div>\n",
       "<style scoped>\n",
       "    .dataframe tbody tr th:only-of-type {\n",
       "        vertical-align: middle;\n",
       "    }\n",
       "\n",
       "    .dataframe tbody tr th {\n",
       "        vertical-align: top;\n",
       "    }\n",
       "\n",
       "    .dataframe thead th {\n",
       "        text-align: right;\n",
       "    }\n",
       "</style>\n",
       "<table border=\"1\" class=\"dataframe\">\n",
       "  <thead>\n",
       "    <tr style=\"text-align: right;\">\n",
       "      <th></th>\n",
       "      <th>Model</th>\n",
       "      <th>RMSE</th>\n",
       "      <th>MAE</th>\n",
       "    </tr>\n",
       "  </thead>\n",
       "  <tbody>\n",
       "    <tr>\n",
       "      <th>0</th>\n",
       "      <td>Entire dataset mean</td>\n",
       "      <td>76.530000</td>\n",
       "      <td>38.090000</td>\n",
       "    </tr>\n",
       "    <tr>\n",
       "      <th>1</th>\n",
       "      <td>Below 200m mean</td>\n",
       "      <td>78.990000</td>\n",
       "      <td>34.400000</td>\n",
       "    </tr>\n",
       "    <tr>\n",
       "      <th>2</th>\n",
       "      <td>Linear Regression</td>\n",
       "      <td>76.742591</td>\n",
       "      <td>38.060080</td>\n",
       "    </tr>\n",
       "    <tr>\n",
       "      <th>3</th>\n",
       "      <td>Ridge Regression</td>\n",
       "      <td>76.742570</td>\n",
       "      <td>38.060106</td>\n",
       "    </tr>\n",
       "    <tr>\n",
       "      <th>4</th>\n",
       "      <td>Lasso Regression</td>\n",
       "      <td>76.773916</td>\n",
       "      <td>38.097653</td>\n",
       "    </tr>\n",
       "  </tbody>\n",
       "</table>\n",
       "</div>"
      ],
      "text/plain": [
       "                 Model       RMSE        MAE\n",
       "0  Entire dataset mean  76.530000  38.090000\n",
       "1      Below 200m mean  78.990000  34.400000\n",
       "2    Linear Regression  76.742591  38.060080\n",
       "3     Ridge Regression  76.742570  38.060106\n",
       "4     Lasso Regression  76.773916  38.097653"
      ]
     },
     "execution_count": 10,
     "metadata": {},
     "output_type": "execute_result"
    }
   ],
   "source": [
    "baseline.head()"
   ]
  },
  {
   "cell_type": "markdown",
   "id": "6fd0a69e",
   "metadata": {},
   "source": [
    "Looking at the figures, it indicates this cannot be modelled effectively with linear models and we might need to make use of non linear kernel based models"
   ]
  },
  {
   "cell_type": "markdown",
   "id": "559239ec",
   "metadata": {},
   "source": [
    "SVR and RF take time to train hence we are using 10% of the data to reduce the training time. To represent the data faithfully, we take 10 percent of samples from each geohash precision level 6 so that the most occuring ones are greater in numbers in the training set as well and vice versa"
   ]
  },
  {
   "cell_type": "code",
   "execution_count": 11,
   "id": "cb0ea260",
   "metadata": {},
   "outputs": [
    {
     "name": "stdout",
     "output_type": "stream",
     "text": [
      "257625\n"
     ]
    }
   ],
   "source": [
    "def stratified_sample(df, against, fraction=0.1):\n",
    "    if df[against].dtype == np.int64 or df[against].dtype == np.float64:\n",
    "        #throw some error or convert to categorical\n",
    "        return None\n",
    "    unique_values = pd.unique(df[against].values)\n",
    "    sampled = pd.DataFrame()\n",
    "    for value in unique_values:\n",
    "        subset = df[df[against] == value]\n",
    "        subset = subset.sample(frac=fraction, random_state=19)\n",
    "        sampled = sampled.append(subset)\n",
    "    return sampled\n",
    "deliveries_data['delivery_geohash_precision6'] = deliveries_data['delivery_geohash_precision8'].apply(lambda x: x[:6])\n",
    "sampled = stratified_sample(deliveries_data, against='delivery_geohash_precision6')\n",
    "\n",
    "\n",
    "print(len(sampled))\n",
    "\n"
   ]
  },
  {
   "cell_type": "code",
   "execution_count": 12,
   "id": "26af1cea",
   "metadata": {},
   "outputs": [],
   "source": [
    "if 'delivery_geohash_precision6' in sampled.columns:\n",
    "    sampled.drop(['delivery_geohash_precision6'], inplace=True, axis=1)\n",
    "    \n",
    "X_train_small, X_test_small, y_train_small, y_test_small = train_test_split(sampled[num_features + fact_features], sampled['logistics_dropoff_distance'].tolist(), test_size=0.20, random_state=19)\n",
    "\n"
   ]
  },
  {
   "cell_type": "code",
   "execution_count": 22,
   "id": "634be0a3",
   "metadata": {},
   "outputs": [
    {
     "name": "stderr",
     "output_type": "stream",
     "text": [
      "/usr/local/Cellar/jupyterlab/3.0.16/libexec/lib/python3.9/site-packages/sklearn/svm/_base.py:284: ConvergenceWarning: Solver terminated early (max_iter=50000).  Consider pre-processing your data with StandardScaler or MinMaxScaler.\n",
      "  warnings.warn(\n"
     ]
    }
   ],
   "source": [
    "classifier = svm.SVR(max_iter=50000)\n",
    "\n",
    "\n",
    "pipe = Pipeline(steps=[('preprocessor', preprocessor),\n",
    "                  ('classifier', classifier)])\n",
    "    \n",
    "model = pipe.fit(X_train_small, y_train_small)\n",
    "\n",
    "y_pred = model.predict(X_test_small)"
   ]
  },
  {
   "cell_type": "code",
   "execution_count": 24,
   "id": "64406c92",
   "metadata": {},
   "outputs": [
    {
     "name": "stdout",
     "output_type": "stream",
     "text": [
      "Root Mean Squared Error is..\n",
      "81.98866607440205\n",
      "Mean Absolute Error is..\n",
      "37.14570226792991\n"
     ]
    }
   ],
   "source": [
    "linear_dict = {}\n",
    "linear_dict['Model'] = 'SVR'\n",
    "print(\"Root Mean Squared Error is..\")\n",
    "print(mean_squared_error(y_pred, y_test_small, squared=False))\n",
    "linear_dict['RMSE'] = mean_squared_error(y_pred, y_test_small, squared=False)\n",
    "print(\"Mean Absolute Error is..\")\n",
    "print((mean_absolute_error(y_pred, y_test_small)))\n",
    "linear_dict['MAE'] = mean_absolute_error(y_pred, y_test_small)\n",
    "baseline = baseline.append(pd.Series(linear_dict), ignore_index = True)"
   ]
  },
  {
   "cell_type": "code",
   "execution_count": 25,
   "id": "0b400f84",
   "metadata": {},
   "outputs": [
    {
     "name": "stdout",
     "output_type": "stream",
     "text": [
      "Root Mean Squared Error is..\n",
      "83.28661393767834\n",
      "Mean Absolute Error is..\n",
      "37.72021894013785\n"
     ]
    }
   ],
   "source": [
    "y_pred = model.predict(X_test)\n",
    "linear_dict = {}\n",
    "linear_dict['Model'] = 'SVR'\n",
    "print(\"Root Mean Squared Error is..\")\n",
    "print(mean_squared_error(y_pred, y_test, squared=False))\n",
    "linear_dict['RMSE'] = mean_squared_error(y_pred, y_test, squared=False)\n",
    "print(\"Mean Absolute Error is..\")\n",
    "print((mean_absolute_error(y_pred, y_test)))\n",
    "linear_dict['MAE'] = mean_absolute_error(y_pred, y_test)\n",
    "baseline = baseline.append(pd.Series(linear_dict), ignore_index = True)"
   ]
  },
  {
   "cell_type": "code",
   "execution_count": 29,
   "id": "8a3fb25c",
   "metadata": {},
   "outputs": [
    {
     "data": {
      "text/html": [
       "<div>\n",
       "<style scoped>\n",
       "    .dataframe tbody tr th:only-of-type {\n",
       "        vertical-align: middle;\n",
       "    }\n",
       "\n",
       "    .dataframe tbody tr th {\n",
       "        vertical-align: top;\n",
       "    }\n",
       "\n",
       "    .dataframe thead th {\n",
       "        text-align: right;\n",
       "    }\n",
       "</style>\n",
       "<table border=\"1\" class=\"dataframe\">\n",
       "  <thead>\n",
       "    <tr style=\"text-align: right;\">\n",
       "      <th></th>\n",
       "      <th>Model</th>\n",
       "      <th>RMSE</th>\n",
       "      <th>MAE</th>\n",
       "    </tr>\n",
       "  </thead>\n",
       "  <tbody>\n",
       "    <tr>\n",
       "      <th>0</th>\n",
       "      <td>Entire dataset mean</td>\n",
       "      <td>76.530000</td>\n",
       "      <td>38.090000</td>\n",
       "    </tr>\n",
       "    <tr>\n",
       "      <th>1</th>\n",
       "      <td>Below 200m mean</td>\n",
       "      <td>78.990000</td>\n",
       "      <td>34.400000</td>\n",
       "    </tr>\n",
       "    <tr>\n",
       "      <th>2</th>\n",
       "      <td>Linear Regression</td>\n",
       "      <td>76.742591</td>\n",
       "      <td>38.060080</td>\n",
       "    </tr>\n",
       "    <tr>\n",
       "      <th>3</th>\n",
       "      <td>Ridge Regression</td>\n",
       "      <td>76.742570</td>\n",
       "      <td>38.060106</td>\n",
       "    </tr>\n",
       "    <tr>\n",
       "      <th>4</th>\n",
       "      <td>Lasso Regression</td>\n",
       "      <td>76.773916</td>\n",
       "      <td>38.097653</td>\n",
       "    </tr>\n",
       "  </tbody>\n",
       "</table>\n",
       "</div>"
      ],
      "text/plain": [
       "                 Model       RMSE        MAE\n",
       "0  Entire dataset mean  76.530000  38.090000\n",
       "1      Below 200m mean  78.990000  34.400000\n",
       "2    Linear Regression  76.742591  38.060080\n",
       "3     Ridge Regression  76.742570  38.060106\n",
       "4     Lasso Regression  76.773916  38.097653"
      ]
     },
     "execution_count": 29,
     "metadata": {},
     "output_type": "execute_result"
    }
   ],
   "source": [
    "baseline.head()"
   ]
  },
  {
   "cell_type": "code",
   "execution_count": 13,
   "id": "0f05e199",
   "metadata": {},
   "outputs": [],
   "source": [
    "# dump(model, '../../model/svr.joblib') "
   ]
  },
  {
   "cell_type": "markdown",
   "id": "d63ddb1a",
   "metadata": {},
   "source": [
    "Using SVR we get an MAE of 37.72m when training on 10% of the dataset and RMSE of 83.2m"
   ]
  },
  {
   "cell_type": "markdown",
   "id": "f00ed1e2",
   "metadata": {},
   "source": [
    "To reduce the time we make use of Kernel Estimations"
   ]
  },
  {
   "cell_type": "code",
   "execution_count": 15,
   "id": "a3735f38",
   "metadata": {},
   "outputs": [
    {
     "name": "stdout",
     "output_type": "stream",
     "text": [
      "DecisionTreeRegressor(criterion='absolute_error', max_depth=20,\n",
      "                      min_samples_split=10000)\n",
      "Train complete..\n",
      "Root Mean Squared Error is..\n",
      "77.57070208367331\n",
      "Mean Absolute Error is..\n",
      "33.84662477024509\n"
     ]
    }
   ],
   "source": [
    "tree_classifiers = [tree.DecisionTreeRegressor(min_samples_split = 10000,criterion = \"absolute_error\", max_depth = 20)]\n",
    "\n",
    "for classifier in tree_classifiers:\n",
    "    print(classifier)\n",
    "    pipe = Pipeline(steps=[('preprocessor', preprocessor),\n",
    "                  ('classifier', classifier)])\n",
    "    linear_dict = {}\n",
    "    linear_dict['Model'] = 'Decision Trees'\n",
    "    model = pipe.fit(X_train_small, y_train_small)\n",
    "    print(\"Train complete..\")\n",
    "\n",
    "    y_pred = model.predict(X_test_small)\n",
    "    print(\"Root Mean Squared Error is..\")\n",
    "    print((mean_squared_error(y_pred, y_test_small, squared=False)))\n",
    "    linear_dict['RMSE'] = mean_squared_error(y_pred, y_test_small, squared=False)\n",
    "\n",
    "    print(\"Mean Absolute Error is..\")\n",
    "    print((mean_absolute_error(y_pred, y_test_small)))\n",
    "    linear_dict['MAE'] = mean_absolute_error(y_pred, y_test_small)\n",
    "    baseline = baseline.append(pd.Series(linear_dict), ignore_index = True)\n",
    "\n"
   ]
  },
  {
   "cell_type": "code",
   "execution_count": 17,
   "id": "8b5ebb88",
   "metadata": {},
   "outputs": [
    {
     "data": {
      "text/plain": [
       "['../../model/dt_model.joblib']"
      ]
     },
     "execution_count": 17,
     "metadata": {},
     "output_type": "execute_result"
    }
   ],
   "source": [
    "# dump(model, '../../model/dt_model.joblib')"
   ]
  },
  {
   "cell_type": "code",
   "execution_count": 19,
   "id": "fa44447a",
   "metadata": {},
   "outputs": [
    {
     "name": "stdout",
     "output_type": "stream",
     "text": [
      "                 Model       RMSE        MAE\n",
      "0  Entire dataset mean  76.530000  38.090000\n",
      "1      Below 200m mean  78.990000  34.400000\n",
      "2    Linear Regression  76.742591  38.060080\n",
      "3     Ridge Regression  76.742570  38.060106\n",
      "4     Lasso Regression  76.773916  38.097653\n",
      "5                  SVR  81.980000  37.720000\n",
      "6       Decision Trees  77.570700  33.840000\n"
     ]
    }
   ],
   "source": [
    "print(baseline)"
   ]
  },
  {
   "cell_type": "code",
   "execution_count": 21,
   "id": "12c711bf",
   "metadata": {},
   "outputs": [
    {
     "name": "stdout",
     "output_type": "stream",
     "text": [
      "Train complete..\n",
      "Root Mean Squared Error is..\n",
      "77.53440615687191\n",
      "Mean Absolute Error is..\n",
      "33.8552488657673\n"
     ]
    }
   ],
   "source": [
    "classifier = RandomForestRegressor(n_estimators=16, criterion='absolute_error',min_samples_leaf=10,min_samples_split=1000, n_jobs=16)\n",
    "\n",
    "pipe = Pipeline(steps=[('preprocessor', preprocessor),\n",
    "              ('classifier', classifier)])\n",
    "linear_dict = {}\n",
    "linear_dict['Model'] = 'Random Forest'\n",
    "model = pipe.fit(X_train_small, y_train_small)\n",
    "print(\"Train complete..\")\n",
    "\n",
    "y_pred = model.predict(X_test_small)\n",
    "print(\"Root Mean Squared Error is..\")\n",
    "print((mean_squared_error(y_pred, y_test_small, squared=False)))\n",
    "linear_dict['RMSE'] = mean_squared_error(y_pred, y_test_small, squared=False)\n",
    "\n",
    "print(\"Mean Absolute Error is..\")\n",
    "print((mean_absolute_error(y_pred, y_test_small)))\n",
    "linear_dict['MAE'] = mean_absolute_error(y_pred, y_test_small)\n",
    "baseline = baseline.append(pd.Series(linear_dict), ignore_index = True)\n",
    "\n"
   ]
  },
  {
   "cell_type": "code",
   "execution_count": 22,
   "id": "51fe896a",
   "metadata": {},
   "outputs": [
    {
     "data": {
      "text/plain": [
       "['../../model/rf_model.joblib']"
      ]
     },
     "execution_count": 22,
     "metadata": {},
     "output_type": "execute_result"
    }
   ],
   "source": [
    "dump(model, '../../model/rf_model.joblib')"
   ]
  },
  {
   "cell_type": "code",
   "execution_count": 23,
   "id": "40dcbe13",
   "metadata": {},
   "outputs": [
    {
     "name": "stdout",
     "output_type": "stream",
     "text": [
      "                 Model       RMSE        MAE\n",
      "0  Entire dataset mean  76.530000  38.090000\n",
      "1      Below 200m mean  78.990000  34.400000\n",
      "2    Linear Regression  76.742591  38.060080\n",
      "3     Ridge Regression  76.742570  38.060106\n",
      "4     Lasso Regression  76.773916  38.097653\n",
      "5                  SVR  81.980000  37.720000\n",
      "6       Decision Trees  77.570700  33.840000\n",
      "7        Random Forest  77.534406  33.855249\n"
     ]
    }
   ],
   "source": [
    "print(baseline)"
   ]
  },
  {
   "cell_type": "markdown",
   "id": "0062a309",
   "metadata": {},
   "source": [
    "## **Conclusion:**\n",
    "1. We started with the baseline from two different mean measures and see how we could improve\n",
    "2. Linear models after parameter tweaks could only improve the error marginally implying that - Given the set of features, the mapping between the input and output variables aren't linear. \n",
    "3. Of course certain more features extracted could have improved the predictions a bit\n",
    "4. We proceed with SVR using an rbf kernel which was too time consuming. We used a stratified sample of the data to reduce the training time and were able to obtain a slightly better model\n",
    "5. Decision Trees and Random Forests provided a lower error. I decided to proceed with Trees Ensemble i.e Random Forest as it uses aggregation to avoid overfitting and would generalise better on unseen data. Since there are many categorical variables, Trees outperform other models in terms of MAE(slightly) and Random Forests are much more robust to unseen data.  "
   ]
  },
  {
   "cell_type": "markdown",
   "id": "e212da01",
   "metadata": {},
   "source": [
    "## **Way Forward:**\n",
    "1. Better Features i.e more features could be extracted from geohash and timestamps\n",
    "2. Extracted features could be clustered for sub-100m for an improved prediction\n",
    "3. Missing information on customer's nth order and rider history which can help improve significantly\n",
    "4. Turning this problem into a classification problem and identifying the actual group for which the problem needs to be solved. <50m is okay given the inaccuracies in gps and dropped pins to the nearest reachable road. Also serveral classification metrics could be used to identify key areas to focus\n",
    "5. Experimenting with evaluation metrics apart from absolute error- like squared errors and logs\n",
    "6. Experimenting with kernel approximations\n",
    "7. Adding confidence to predictions  \n",
    "8. Using better feature engineering, the error can be further reduced, or rather from a business perspective, it could be used as a classification problem to group the distance into bins with a dedicated model for each bin.\n",
    "\n"
   ]
  },
  {
   "cell_type": "markdown",
   "id": "7246b7f1",
   "metadata": {},
   "source": [
    "## Front End Suggestions:"
   ]
  },
  {
   "cell_type": "markdown",
   "id": "86df9602",
   "metadata": {},
   "source": [
    "**Problems**  \n",
    "The main problem according to me are the outliers and the distances exceeding 60m  \n",
    "Anything greater than 800m to 1km is an outlier, and the possible reasons for this are:      \n",
    "Customer enters the address and the suggestions map some place which is a few kms away or even in a different country (which can explain why we have a 50000+ m value too). Customer selects it unaware that it doesn’t match his gps location  \n",
    "Location permission is perhaps turned off  \n",
    "Customer is ordering for someone else   \n",
    "Customer is travelling  \n",
    "Random Reasons could influence someone wanting the rider to drop off because of certain set of rules within places for eg, a housing colony doesn’t allow outsiders to enter and the security guards pick it up at the gate for the customer  \n",
    "Issue with address suggestions which aren’t reflective of actual location on map  \n"
   ]
  },
  {
   "cell_type": "markdown",
   "id": "7090c42a",
   "metadata": {},
   "source": [
    "**Solutions:**  \n",
    "In general, location data should be compared with the dropped pin and in case of a distance mismatch, there should be a pop-up or prompt message to highlight to them that the location is 200+ or n+ metres away from their actual location. This will assist in tackling issues of locations set far away by users unknowingly  \n",
    "Saved addresses or preselected addresses should then display the distance of the dropped pin from location of user to highlight the actual distance as seen below  \n",
    "Highlight instruction fields (to encourage user to fill)  in case dropped pin is more than a certain distance away from the actual location  \n",
    "More granular pins for areas with high order density such that dropoff distances are minimised  \n",
    "Suggestion ranking score when an address is typed, with confidence that is inversely proportional to the distance\n",
    "\n"
   ]
  },
  {
   "cell_type": "code",
   "execution_count": null,
   "id": "7bc10dae",
   "metadata": {},
   "outputs": [],
   "source": []
  }
 ],
 "metadata": {
  "kernelspec": {
   "display_name": "Python 3",
   "language": "python",
   "name": "python3"
  },
  "language_info": {
   "codemirror_mode": {
    "name": "ipython",
    "version": 3
   },
   "file_extension": ".py",
   "mimetype": "text/x-python",
   "name": "python",
   "nbconvert_exporter": "python",
   "pygments_lexer": "ipython3",
   "version": "3.9.5"
  }
 },
 "nbformat": 4,
 "nbformat_minor": 5
}
